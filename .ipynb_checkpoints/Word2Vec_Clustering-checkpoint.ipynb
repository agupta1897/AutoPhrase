{
 "cells": [
  {
   "cell_type": "code",
   "execution_count": 1,
   "metadata": {},
   "outputs": [],
   "source": [
    "import numpy as np\n",
    "from gensim.models import Word2Vec\n",
    "import gensim\n"
   ]
  },
  {
   "cell_type": "code",
   "execution_count": 7,
   "metadata": {},
   "outputs": [],
   "source": [
    "inputFile = open(r\"models/cate/segmentationTagRemoved.txt\",\"r\")\n",
    "\n",
    "docList = []\n",
    "\n",
    "for item in inputFile:\n",
    "    docList.append(item.split())\n",
    "    \n",
    "model = Word2Vec(docList, cbow_mean=0, size=100, window=5, negative=0, hs=1,  sample=1e-3, workers=12, sg=1, min_count=1)\n",
    "model.wv.save_word2vec_format('word2Vec_model.txt', binary=0)\n",
    "model.wv.save_word2vec_format('word2Vec_model.bin')\n"
   ]
  },
  {
   "cell_type": "code",
   "execution_count": null,
   "metadata": {},
   "outputs": [],
   "source": [
    "import gensim\n",
    "import numpy as np\n",
    "from gensim.models import Word2Vec\n",
    "from sklearn.cluster import KMeans\n",
    "from sklearn import preprocessing\n",
    "\n",
    "\n",
    "segmentedPhrasesFile = open(r\"models/cate/segmentedPhrases.txt\", \"r\")\n",
    "\n",
    "clustered_words = open(r\"models/cate/clustered_words.txt\", \"w\")\n",
    "model = gensim.models.KeyedVectors.load_word2vec_format('word2Vec_model.bin')\n",
    "\n",
    "embeddingList = []\n",
    "phraseEmbedding = []\n",
    "notFound = 0\n",
    "count = 0\n",
    "for line in segmentedPhrasesFile:\n",
    "    phrase = line.strip('\\n')\n",
    "    # phrase = line.split(maxsplit=1)[1]\n",
    "    # phrase = phrase.replace(\" \", \"_\")\n",
    "    # print(phrase)\n",
    "    count += 1\n",
    "    if phrase not in model.vocab:\n",
    "        print(\"Not There:\" + phrase)\n",
    "        notFound += 1\n",
    "    else:\n",
    "        # updated_segmentedPhrasesFile.write(phrase + \"\\n\")\n",
    "        phraseEmbedding.append(phrase)\n",
    "        #normalizing Embeddings for Cosine Similarity in Kmeans\n",
    "        embeddingList.append(preprocessing.normalize(np.asarray(model[phrase]).reshape(1, -1), norm = \"l2\").flatten())\n",
    "        \n",
    "print(notFound)\n",
    "print(count)\n",
    "\n",
    "\n",
    "phrases_cat_wise = [[\"\", ], [\"\", ], [\"\", ], [\"\", ], [\"\", ], [\"\", ]]\n",
    "kmeans = KMeans(n_clusters=6, random_state=0).fit(embeddingList)\n",
    "print(\"completed Kmeans\")\n",
    "\n",
    "\n",
    "for index, labels in enumerate(kmeans.labels_):\n",
    "    n= n+1\n",
    "    phrases_cat_wise[labels].append(phraseEmbedding[index])\n",
    "\n",
    "print(\"Added to the list\")\n",
    "\n",
    "for i in range(len(phrases_cat_wise)):\n",
    "    clustered_words.write(\"~~~~~~~~~~ Category\" + str(i) + \" ~~~~~~~~~~\" + \"\\n\")\n",
    "    for j in phrases_cat_wise[i]:\n",
    "        clustered_words.write(j + \"\\n\")\n",
    "\n",
    "print(\"Stored in the file\")\n",
    "\n"
   ]
  },
  {
   "cell_type": "code",
   "execution_count": null,
   "metadata": {},
   "outputs": [],
   "source": [
    "import gensim\n",
    "import numpy as np\n",
    "from gensim.models import Word2Vec\n",
    "from sklearn.cluster import KMeans\n",
    "from sklearn import preprocessing"
   ]
  },
  {
   "cell_type": "code",
   "execution_count": 6,
   "metadata": {},
   "outputs": [
    {
     "name": "stdout",
     "output_type": "stream",
     "text": [
      "Not There:energy_consumption\n",
      "Not There:physical_review_letters\n",
      "Not There:knowledge_bases\n",
      "Not There:mit_reality\n",
      "Not There:markov_chains\n",
      "Not There:erasure_coding\n",
      "Not There:human_annotators\n",
      "Not There:semantic_parsing\n",
      "8\n",
      "100\n"
     ]
    },
    {
     "ename": "NameError",
     "evalue": "name 'string' is not defined",
     "output_type": "error",
     "traceback": [
      "\u001b[1;31m---------------------------------------------------------------------------\u001b[0m",
      "\u001b[1;31mNameError\u001b[0m                                 Traceback (most recent call last)",
      "\u001b[1;32m<ipython-input-6-b134d1e84a1d>\u001b[0m in \u001b[0;36m<module>\u001b[1;34m\u001b[0m\n\u001b[0;32m     40\u001b[0m \u001b[1;33m\u001b[0m\u001b[0m\n\u001b[0;32m     41\u001b[0m \u001b[1;33m\u001b[0m\u001b[0m\n\u001b[1;32m---> 42\u001b[1;33m     \u001b[0mtopWordEmbeddingsFile\u001b[0m\u001b[1;33m.\u001b[0m\u001b[0mwrite\u001b[0m\u001b[1;33m(\u001b[0m\u001b[0mphraseEmbedding\u001b[0m\u001b[1;33m[\u001b[0m\u001b[0mi\u001b[0m\u001b[1;33m]\u001b[0m  \u001b[1;33m+\u001b[0m \u001b[1;34m\" : \"\u001b[0m \u001b[1;33m+\u001b[0m \u001b[0mstring\u001b[0m\u001b[1;33m(\u001b[0m\u001b[0membeddingList\u001b[0m\u001b[1;33m[\u001b[0m\u001b[0mi\u001b[0m\u001b[1;33m]\u001b[0m\u001b[1;33m)\u001b[0m \u001b[1;33m)\u001b[0m\u001b[1;33m\u001b[0m\u001b[1;33m\u001b[0m\u001b[0m\n\u001b[0m\u001b[0;32m     43\u001b[0m \u001b[1;33m\u001b[0m\u001b[0m\n\u001b[0;32m     44\u001b[0m \u001b[1;33m\u001b[0m\u001b[0m\n",
      "\u001b[1;31mNameError\u001b[0m: name 'string' is not defined"
     ]
    }
   ],
   "source": [
    "\n",
    "\n",
    "\n",
    "autoPhraseFile = open(r\"models/cate/AutoPhrase.txt\", \"r\")\n",
    "\n",
    "topWordEmbeddingsFile = open(r\"models/cate/top100Embeddings.txt\", \"w\")\n",
    "\n",
    "model = gensim.models.KeyedVectors.load_word2vec_format('word2Vec_model.bin')\n",
    "\n",
    "embeddingList = []\n",
    "phraseEmbedding = []\n",
    "notFound = 0\n",
    "count = 0\n",
    "for line in autoPhraseFile:\n",
    "    phrase = line.strip('\\n').split(\"\\t\")[1]\n",
    "    phrase = phrase.replace(\" \", \"_\")\n",
    "    # phrase = line.split(maxsplit=1)[1]\n",
    "    # phrase = phrase.replace(\" \", \"_\")\n",
    "    # print(phrase)\n",
    "    if phrase not in model.vocab:\n",
    "        print(\"Not There:\" + phrase)\n",
    "        notFound += 1\n",
    "    else:\n",
    "        # updated_segmentedPhrasesFile.write(phrase + \"\\n\")\n",
    "        phraseEmbedding.append(phrase)\n",
    "        #normalizing Embeddings for Cosine Similarity in Kmeans\n",
    "        count += 1\n",
    "        embeddingList.append(preprocessing.normalize(np.asarray(model[phrase]).reshape(1, -1), norm = \"l2\").flatten())\n",
    "    if(count==100):\n",
    "        break\n",
    "        \n",
    "print(notFound)\n",
    "print(count)\n",
    "\n",
    "for i in range(len(embeddingList)):\n",
    "    \n",
    "\n",
    "    topWordEmbeddingsFile.write(str(phraseEmbedding[i])  + \" : \" + str(embeddingList[i]) )\n",
    "    \n",
    "\n",
    "# phrases_cat_wise = [[\"\", ], [\"\", ], [\"\", ], [\"\", ], [\"\", ], [\"\", ]]\n",
    "# kmeans = KMeans(n_clusters=6, random_state=0).fit(embeddingList)\n",
    "# print(\"completed Kmeans\")\n",
    "\n",
    "\n",
    "# for index, labels in enumerate(kmeans.labels_):\n",
    "#     n= n+1\n",
    "#     phrases_cat_wise[labels].append(phraseEmbedding[index])\n",
    "\n",
    "# print(\"Added to the list\")\n",
    "\n",
    "# for i in range(len(phrases_cat_wise)):\n",
    "#     clustered_words.write(\"~~~~~~~~~~ Category\" + str(i) + \" ~~~~~~~~~~\" + \"\\n\")\n",
    "#     for j in phrases_cat_wise[i]:\n",
    "#         clustered_words.write(j + \"\\n\")\n",
    "\n",
    "# print(\"Stored in the file\")\n",
    "\n"
   ]
  },
  {
   "cell_type": "code",
   "execution_count": null,
   "metadata": {},
   "outputs": [],
   "source": []
  }
 ],
 "metadata": {
  "kernelspec": {
   "display_name": "Python 3",
   "language": "python",
   "name": "python3"
  },
  "language_info": {
   "codemirror_mode": {
    "name": "ipython",
    "version": 3
   },
   "file_extension": ".py",
   "mimetype": "text/x-python",
   "name": "python",
   "nbconvert_exporter": "python",
   "pygments_lexer": "ipython3",
   "version": "3.6.9"
  }
 },
 "nbformat": 4,
 "nbformat_minor": 2
}
