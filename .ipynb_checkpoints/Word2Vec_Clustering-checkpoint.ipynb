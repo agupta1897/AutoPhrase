{
 "cells": [
  {
   "cell_type": "code",
   "execution_count": 3,
   "metadata": {},
   "outputs": [],
   "source": [
    "import numpy as np\n",
    "from gensim.models import Word2Vec\n",
    "import gensim\n"
   ]
  },
  {
   "cell_type": "code",
   "execution_count": 7,
   "metadata": {},
   "outputs": [],
   "source": [
    "inputFile = open(r\"models/cate/segmentationTagRemoved.txt\",\"r\")\n",
    "\n",
    "docList = []\n",
    "\n",
    "for item in inputFile:\n",
    "    docList.append(item.split())\n",
    "    \n",
    "model = Word2Vec(docList, cbow_mean=0, size=100, window=5, negative=0, hs=1,  sample=1e-3, workers=12, sg=1, min_count=1)\n",
    "model.wv.save_word2vec_format('word2Vec_model.txt', binary=0)\n",
    "model.wv.save_word2vec_format('word2Vec_model.bin')\n"
   ]
  },
  {
   "cell_type": "code",
   "execution_count": null,
   "metadata": {},
   "outputs": [],
   "source": []
  }
 ],
 "metadata": {
  "kernelspec": {
   "display_name": "Python 3",
   "language": "python",
   "name": "python3"
  },
  "language_info": {
   "codemirror_mode": {
    "name": "ipython",
    "version": 3
   },
   "file_extension": ".py",
   "mimetype": "text/x-python",
   "name": "python",
   "nbconvert_exporter": "python",
   "pygments_lexer": "ipython3",
   "version": "3.6.9"
  }
 },
 "nbformat": 4,
 "nbformat_minor": 2
}
