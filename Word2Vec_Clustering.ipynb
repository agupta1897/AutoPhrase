{
 "cells": [
  {
   "cell_type": "code",
   "execution_count": 3,
   "metadata": {},
   "outputs": [],
   "source": [
    "import numpy as np\n",
    "from gensim.models import Word2Vec\n",
    "import gensim\n"
   ]
  },
  {
   "cell_type": "code",
   "execution_count": 7,
   "metadata": {},
   "outputs": [],
   "source": [
    "inputFile = open(r\"models/cate/segmentationTagRemoved.txt\",\"r\")\n",
    "\n",
    "docList = []\n",
    "\n",
    "for item in inputFile:\n",
    "    docList.append(item.split())\n",
    "    \n",
    "model = Word2Vec(docList, cbow_mean=0, size=100, window=5, negative=0, hs=1,  sample=1e-3, workers=12, sg=1, min_count=1)\n",
    "model.wv.save_word2vec_format('word2Vec_model.txt', binary=0)\n",
    "model.wv.save_word2vec_format('word2Vec_model.bin')\n"
   ]
  },
  {
   "cell_type": "code",
   "execution_count": 19,
   "metadata": {},
   "outputs": [
    {
     "name": "stdout",
     "output_type": "stream",
     "text": [
      "Not There:document-level\n",
      "Not There:candidate-generation\n",
      "Not There:org/projects/netsci/browser/docs\n",
      "Not There:team/trunk/irc/projects/r3\n",
      "Not There:social-_correlation\n",
      "Not There:logistic_distribution\n",
      "Not There:social-correlation\n",
      "Not There:flowering_plant\n",
      "Not There:cidcidcidcidcidcidcidcidcidcidcidcidcidcidcidcidcidcidcidcidcidcidcidcidcidcidcidcidcidcidcidcidcidcidcidcidcidcidcidcidcidcidcidcidcidcidcidcidcidcidcidcidcidcidcidcidcidcidcidcidcidcidcidcidcidcidcidcidcidcidcidcidcidcidcidcidcidcidcidcidcidcidcidcidcidcidcidcidcidcidcidcidcidcidcidcidcidcidcidcidcidcidcidcidcidcidcidcidcidcidcidcidcidcidcidcidcidcidcidcidcidcidcidcidcidcidcidcidcidcidcidcidcidcidcidcidcidcidcidcidcidcidcidcidcidcidcidcidcidcidcidcidcidcidcidcidcidcidcidcidcidcidcidcidcidcidcidcidcidcidcidcidcidcidcidcidcidcidcidcidcidcidcidcidcidcidcidcidcidcidcidcidcidcidcidcidcidcidcidcidcidcidcidcidcidcidcidcidcidcidcidcidcidcidcidcidcidcidcidcidcidcidcidcidcidcidcidcidcidcidcidcidcidcidcidcidcidcidcidcidcidcidcidcidcidcidcidcidcidcidcidcidcidcidcidcidcidcidcidcidcidcidcidcidcidcidcidcidcidcidcidcidcidcidcidcidcidcidcidcidcidcidcidcidcidcidcidcidcidcidcidcidcidcidcidcidcidcidcidcidcidcidcidcidcidcidcidcidcidcidcidcidcidcidcidcidcidcidcidcidcidcidcidcidcidcidcidcidcidcidcidcidcidcidcidcidcidcidcidcid\n",
      "Not There:cidcidcidcidcidcidcidcidcidcidcidcidcidcidcidcidcidcidcidcidcidcidcidcidcidcidcidcidcidcidcidcidcidcidcidcidcidcidcidcidcidcidcidcidcidcidcidcidcidcidcidcidcidcidcidcidcidcidcidcidcidcidcidcidcidcidcidcidcidcidcidcidcidcidcidcidcidcidcidcidcidcidcidcidcidcidcidcidcidcidcidcidcidcidcidcidcidcidcidcidcidcidcidcidcidcidcidcidcidcidcidcidcidcidcidcidcidcidcidcidcidcidcidcidcidcidcidcidcidcidcidcidcidcidcidcidcidcidcidcidcidcidcidcidcidcidcidcidcidcidcidcidcidcidcidcidcidcidcidcidcidcidcidcidcidcidcidcidcidcidcidcidcidcidcidcidcidcidcidcidcidcidcidcidcidcidcidcidcidcidcidcidcidcidcidcidcidcidcidcidcidcidcidcidcidcidcidcidcidcidcidcidcidcidcidcidcidcidcidcidcidcidcidcidcidcidcidcidcidcidcidcidcidcidcidcidcidcidcidcidcidcidcidcidcidcidcidcidcidcidcidcidcidcidcidcidcidcidcidcidcidcidcidcidcidcidcidcidcidcidcidcidcidcidcidcidcidcidcidcidcidcidcidcidcidcidcidcidcidcidcidcidcidcidcidcidcidcidcidcidcidcidcidcidcidcidcidcidcidcidcidcidcidcidcidcidcidcidcidcidcidcidcidcidcidcidcidcidcidcidcidcidcidcidcidcidcidcidcidcidcidcidcidcidcidcidcidcidcidcidcidcidcidcidcidcidcidcidcidcidcidcidcidcidcidcidcidcidcidcidcidcidcidcidcidcidcidcidcidcidcidcidcidcidcidcidcidcidcidcidcidcidcidcidcidcidcidcidcidcidcidcidcidcidcidcidcidcidcidcidcidcidcidcidcidcidcidcidcidcidcidcidcidcidcid\n",
      "Not There:cidcidcidcidcidcidcidcidcidcidcidcidcidcidcidcidcidcidcidcidcidcidcidcidcidcidcidcidcidcidcidcidcidcidcidcidcidcidcidcidcidcidcidcidcidcidcidcidcidcidcidcidcidcidcidcidcidcidcidcidcidcidcidcidcidcidcidcidcidcidcidcidcidcidcidcidcidcidcidcidcidcidcidcidcidcidcidcidcidcidcidcidcidcidcidcidcidcidcidcidcidcidcidcidcidcidcidcidcidcidcidcidcidcidcidcidcidcidcidcidcidcidcidcidcidcidcidcidcidcidcidcidcidcidcidcidcidcidcidcidcidcidcidcidcidcidcidcidcidcidcidcidcidcidcidcidcidcidcidcidcidcidcidcidcidcidcidcidcidcid\n",
      "Not There:cidcidcidcidcidcidcidcidcidcidcidcidcidcidcidcidcidcidcidcidcidcidcidcidcidcidcidcidcidcidcidcidcidcidcidcidcidcidcidcidcidcidcidcidcidcidcidcidcidcidcidcidcidcidcidcidcidcidcidcidcidcidcidcidcidcidcidcidcidcidcidcidcidcidcidcidcidcidcidcidcidcidcidcidcidcidcidcidcidcidcidcidcidcidcidcidcidcidcidcidcidcidcidcidcidcidcidcidcidcidcidcidcidcidcidcidcidcidcidcidcidcidcidcidcidcidcidcidcidcidcidcidcidcidcidcidcidcidcidcidcidcidcidcidcidcidcidcidcidcidcidcidcidcidcidcidcidcidcidcidcidcidcidcidcidcidcidcidcidcidcidcidcidcidcidcidcidcidcidcidcidcidcidcidcidcidcidcidcidcidcidcidcidcidcidcidcidcidcidcidcidcidcidcidcidcidcidcidcidcidcidcidcidcidcidcidcidcidcidcidcidcidcidcidcidcidcidcidcidcidcidcidcidcidcidcidcidcidcidcidcidcidcidcidcidcidcidcidcidcidcidcidcidcidcid\n",
      "Not There:earliest-_deadline\n",
      "Not There:parameter-_free\n",
      "Not There:diver\n",
      "Not There:demand_media\n",
      "Not There:contact-burst\n",
      "Not There:a_10\n",
      "Not There:llllllllllllllllllllllllllllllllllllllllllllllllllllllllllllllllllllllllllllllllllllllllllllllllllllllllllllllllllllllllllllllllllllllllllllllllllllllllllllllllllllllllllllllllllllllllllllllllllllllllllllllllllllllllllllllllllllllllllllllllllllllllllllllllllllllllllllllllllllllllllllllllllllllllllllllllllllllllllllllllllllllllllllllllllllllllllllllllllllllllllllllllllllllllllllllllllllllllllllllllllllllllllllllllllllllllllllllllllllllllllllllllllllllllllllllllllllllllllllllllllllllllllllllllllllllllllllll\n",
      "Not There:internet_userslllllllllllllllllllllllllllllllllllllllllllllllllllllllllllllllllllllllllllllllllllllllllllllllllllllllllllllllllllllllllllllllllllllllllllllllllllllllllllllllllllllllllllllllllllllllllllllllllllllllllllllllllllllllllllllllllllllllllllllllllllllllllllllllllllllllllllllllllllllllllllllllllllllllllllllllllllllllllllllllllllllllllllllllllllllllllllllllllllllllllllllllllllllllllllllllllllllllllllllllllllllllllllllllllllllllllllllllllllllllllllllllllllllllllllllllllllllllllllllllllllllllllllllllllllllllllllllllllllllllllllllllllllllllllllllllllllllllllllllllllllllllllllllllllllllllllllllllllllllllllllllllllllllllllllllllllllllllllllllllllllllllllllllllllllllllllllllllllllllllllllllllllllllllllllllllllllllllllllllllllllllllllllllllllllllllllllllllllllllllllllllllllllllllllllllllllllllllllllllllllllllllllllllllllllllllllllllllllllllllllllllllllllllllllllllllllllllllllllllllllllllllllllllllllllllllllllllllllllllllllllllllllllllllllllllllllllllllllllllllllllllllllllllllllllllllllllllllllllllllllllllllllllllll\n",
      "Not There:llllllllllllllllllllllllllllllllllllllllllllllllllllllllllllllllllllllllllllllllllllllllllllllllllllllllllllllllllllllllllllllllllllllllllllllllllllllllllllllllllllllllllllllllllllllllllllllllllllllllllllllllllllllllllllllllllllllllllllllllllllllllllllllllllllllllllllllllllllllllllllllllllllllllllllllllllllllllllllllllllllllllllllllllllllllllllllllllllllllllllllllllllllllllllllllllllllllllllllllllllllllllllllllllllllllllllllllllllllllllllllllllllllllllllllllllllllllllllllllllllllllllllllllllllllllllllllllllllllllllllllllllllllllllllllllllllllllllllllllllllllllllllllllllllllllllllllllllllllllllllllllllllllllllllllllllllllllllllllllllllllllllllllllllllllllllllllllllllllllllllllllllllllllllllllllllllllllllllllllllllllllllllllllllllllllllllllllllllllllllllllllllllllllllllllllllllllllllllllllllllllllllllllllllllllllllllllllllllllllllllllllllllllllllllllllllllllllllllllllllllllllllllllllllllllllllllllllllllllllllllllllllllllllllllllllllllllllllllllllllllllllllllllllllllllllllllllllllllllllllllllllllllllllllllll\n",
      "Not There:internet_usersllllllllllllllllllllllllllllllllllllllllllllllllllllllllllllllllllllllllllllllllllllllllllllllllllllllllllllllllllllllllllllllllllllllllllllllllllllllllllllllllllllllllllllllllllllllllllllllllllllllllllllllllllllllllllllllllllllllllllllllllllllllllllllllllllllllllllllllllllllllllllllllllllllllllllllllllllllllllllllllllllllllllllllllllllllllllllllllllllllllllllllllllllllllllllllllllllllllllllllllllllllllllllllllllllllllllllllllllllllllllllllllllllllllllllllllllllllllllllllllllllllllllllllllllllllllllllllllllllllllllllllllllllllllllllllllllllllllllllllllllllllllllllllllllllllllllllllllllllllllllllllllllllllllllllllllllllllllllllllllllllllllllllllllllllllllllllllllllllllllllllllllllllllllllllllllllllllllllllllllllllllllllllllllllllllllllllllllllllllllllllllllllllllllllllllllllllllllllllllllllllllllllllllllllllllllllllllllllllllllllllllllllllllllllllllllllllllllllllllllllllllllllllllllllllllllllllllllllllllllllllllllllllllllllllllllllllllllllllllllllllllllllllllllllllllllllllllllllllllllllllllllllllllllllllllllllllllllllllllllllllllllllllllllllllllllllllllllllllllllllllllllllllllllllllllllllllllllllllllllllllllllllllllllllllllllllllllllllllllllllllllllllllllllllllllllllllllllllllllllllllllllllllllllllllllllllllllllllllllllllllllllllllllllllllllllllllllll\n",
      "Not There:internet_usersllllllllllllllllllllllllllllllllllllllllllllllllllllllllllllllllllllllllllllllllllllllllllllllllllllllllllllllllllllllllllllllllllllllllllllllllllllllllllllllllllllllllllllllllllllllllllllllllllllllllllllllllllllllllllllllllllllllllllllllllllllllllllllllllllllllllllllllllllllllllllllllllllllllllllllllllllllllllllllllllllllllllllllllllllllllllllllllllllllllllllllllllllllllllllllllllllllllllllllllllllllllllllllllllllllllllllllllllllllllllllllllllllllllllllllllllllllllllllllllllllllllllllllllllllllllllllllllllllllllllllllllllllllllllllllllllllllllllllllllllllllllllllllllllllllllllllllllllllllllllllllllllllllllllllllllllllllllllllllllllllllllllllllllllllllllllllllllllllllllllllllllllllllllllllllllllllllllllllllllllllllllllllllllllllllllllllllllllllllllll\n",
      "Not There:aware_data_replication\n",
      "Not There:n-gram\n"
     ]
    },
    {
     "name": "stdout",
     "output_type": "stream",
     "text": [
      "Not There:r-tree\n",
      "Not There:co-np\n",
      "Not There:low-recall\n",
      "Not There:query-graph\n",
      "Not There:supra\n",
      "Not There:mosquito\n",
      "31\n",
      "30866\n",
      "completed Kmeans\n",
      "Added to the list\n",
      "Stored in the file\n"
     ]
    }
   ],
   "source": [
    "import gensim\n",
    "import numpy as np\n",
    "from gensim.models import Word2Vec\n",
    "from sklearn.cluster import KMeans\n",
    "from sklearn import preprocessing\n",
    "\n",
    "\n",
    "segmentedPhrasesFile = open(r\"models/cate/segmentedPhrases.txt\", \"r\")\n",
    "\n",
    "clustered_words = open(r\"models/cate/clustered_words.txt\", \"w\")\n",
    "model = gensim.models.KeyedVectors.load_word2vec_format('word2Vec_model.bin')\n",
    "\n",
    "embeddingList = []\n",
    "phraseEmbedding = []\n",
    "notFound = 0\n",
    "count = 0\n",
    "for line in segmentedPhrasesFile:\n",
    "    phrase = line.strip('\\n')\n",
    "    # phrase = line.split(maxsplit=1)[1]\n",
    "    # phrase = phrase.replace(\" \", \"_\")\n",
    "    # print(phrase)\n",
    "    count += 1\n",
    "    if phrase not in model.vocab:\n",
    "        print(\"Not There:\" + phrase)\n",
    "        notFound += 1\n",
    "    else:\n",
    "        # updated_segmentedPhrasesFile.write(phrase + \"\\n\")\n",
    "        phraseEmbedding.append(phrase)\n",
    "        #normalizing Embeddings for Cosine Similarity in Kmeans\n",
    "        embeddingList.append(preprocessing.normalize(np.asarray(model[phrase]).reshape(1, -1), norm = \"l2\").flatten())\n",
    "        \n",
    "print(notFound)\n",
    "print(count)\n",
    "\n",
    "\n",
    "phrases_cat_wise = [[\"\", ], [\"\", ], [\"\", ], [\"\", ], [\"\", ], [\"\", ]]\n",
    "kmeans = KMeans(n_clusters=6, random_state=0).fit(embeddingList)\n",
    "print(\"completed Kmeans\")\n",
    "\n",
    "\n",
    "for index, labels in enumerate(kmeans.labels_):\n",
    "    n= n+1\n",
    "    phrases_cat_wise[labels].append(phraseEmbedding[index])\n",
    "\n",
    "print(\"Added to the list\")\n",
    "\n",
    "for i in range(len(phrases_cat_wise)):\n",
    "    clustered_words.write(\"~~~~~~~~~~ Category\" + str(i) + \" ~~~~~~~~~~\" + \"\\n\")\n",
    "    for j in phrases_cat_wise[i]:\n",
    "        clustered_words.write(j + \"\\n\")\n",
    "\n",
    "print(\"Stored in the file\")\n",
    "\n"
   ]
  },
  {
   "cell_type": "code",
   "execution_count": null,
   "metadata": {},
   "outputs": [],
   "source": []
  }
 ],
 "metadata": {
  "kernelspec": {
   "display_name": "Python 3",
   "language": "python",
   "name": "python3"
  },
  "language_info": {
   "codemirror_mode": {
    "name": "ipython",
    "version": 3
   },
   "file_extension": ".py",
   "mimetype": "text/x-python",
   "name": "python",
   "nbconvert_exporter": "python",
   "pygments_lexer": "ipython3",
   "version": "3.6.9"
  }
 },
 "nbformat": 4,
 "nbformat_minor": 2
}
